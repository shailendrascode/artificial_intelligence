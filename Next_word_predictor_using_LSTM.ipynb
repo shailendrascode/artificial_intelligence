{
  "nbformat": 4,
  "nbformat_minor": 0,
  "metadata": {
    "colab": {
      "provenance": []
    },
    "kernelspec": {
      "name": "python3",
      "display_name": "Python 3"
    },
    "language_info": {
      "name": "python"
    }
  },
  "cells": [
    {
      "cell_type": "code",
      "execution_count": null,
      "metadata": {
        "id": "ZSF1EXqlGRB8"
      },
      "outputs": [],
      "source": []
    },
    {
      "cell_type": "code",
      "execution_count": 3,
      "metadata": {
        "id": "IrmA3eaj3kF0"
      },
      "outputs": [],
      "source": [
        "rr_text = \"\"\"Rajasthan Royals (often abbreviated as RR) are a professional franchise cricket team based in Jaipur, Rajasthan, that plays in the Indian Premier League (IPL).[1] Founded in 2008 as one of the initial eight IPL franchises, the team is based at the Sawai Mansingh Stadium in Jaipur.[2][3] The Royals are known to unearth obscure, high potential talent.[4][5][6]\n",
        "\n",
        "The team won the inaugural edition of the IPL under the captaincy of Shane Warne, despite being written off as a title contender by the media and fans. The Royals were also the runners-up of the 2013 Champions League Twenty20 under Rahul Dravid's captaincy,[6][7] and they were also the finalists of the 2022 Indian Premier League under the captaincy of Sanju Samson and leadership of Kumar Sangakkara.\n",
        "\n",
        "On 14 July 2015, the verdict reached by a panel appointed by the Supreme Court of India suspended Rajasthan Royals and Chennai Super Kings for two years over a 2013 betting scandal, meaning they could not participate in both the 2016 and 2017 IPL tournaments. They returned to the competition for the 2018 season.\n",
        "\n",
        "The team's record run-scorer is Sanju Samson with 3138 runs,[8] while the leading wicket-taker is Shane Watson, with 67.  The Rajasthan Royals, fondly known as the 'Royals' or 'RR,' are a team that embodies the vibrant spirit and the rich cultural heritage of the state of Rajasthan, India. Established in 2008, they became an integral part of the Indian Premier League (IPL) from its inaugural season, bringing forth a blend of cricketing prowess and a unique ethos that sets them apart.\n",
        "\n",
        "The team represents more than just cricket; it encapsulates the valor, resilience, and the princely charm reminiscent of the majestic land it represents. The Royals have cultivated a distinct identity that resonates with cricket enthusiasts worldwide.\n",
        "\n",
        "Led by visionary owners who embrace innovation, the Rajasthan Royals have always been trendsetters in the league. Their philosophy emphasizes nurturing budding talents and discovering diamonds in the rough, often unearthing exceptional players through astute scouting and investment in youth.\n",
        "\n",
        "One of the standout traits of the Royals is their commitment to nurturing young talent, evident in their belief in giving opportunities to relatively unknown players and helping them blossom into cricketing stars. The 'Moneyball' approach, focusing on data-driven decisions and talent development, has been a hallmark of their strategy.\n",
        "\n",
        "The team's success story is peppered with unforgettable moments, including their sensational triumph in the inaugural season of the IPL. Under the astute leadership of Shane Warne, they captured the imagination of fans with their audacious and fearless brand of cricket, clinching the title and etching their name in the annals of IPL history.\n",
        "\n",
        "Over the years, the team has seen its fair share of ups and downs but has consistently remained a potent force, displaying resilience and a never-say-die attitude. Their journey has been a rollercoaster ride of thrilling victories, heart-stopping encounters, and a commitment to entertaining cricket.\n",
        "\n",
        "Sawai Mansingh Stadium in Jaipur stands as the fortress where the Royals have showcased their cricketing wizardry, creating an electric atmosphere that reverberates with the passion of the 'Royals Army,' their ardent fan base. The sea of blue and gold, the team's colors, adorns the stands as fans cheer their beloved team with unwavering support, making every match a spectacle.\n",
        "\n",
        "The Rajasthan Royals aren't just a team; they embody the essence of Rajasthan—a tapestry woven with tradition, valor, and a rich cultural heritage. They symbolize the spirit of 'Royalty' in cricket, transcending boundaries and captivating the hearts of fans globally.\n",
        "\n",
        "As they continue their journey in the IPL, the Rajasthan Royals remain an embodiment of grit, passion, and the enduring spirit that defines not just a cricket team, but an emblem of Rajasthan's royal legacy, leaving an indelible mark in the world of cricket.\"\"\""
      ]
    },
    {
      "cell_type": "code",
      "source": [
        "import tensorflow as tf\n",
        "from tensorflow.keras.preprocessing.text import Tokenizer"
      ],
      "metadata": {
        "id": "GdZb1OdoGr0-"
      },
      "execution_count": 4,
      "outputs": []
    },
    {
      "cell_type": "code",
      "source": [
        "tokenizer = Tokenizer()"
      ],
      "metadata": {
        "id": "NL69zQDEHVaB"
      },
      "execution_count": 5,
      "outputs": []
    },
    {
      "cell_type": "code",
      "source": [
        "tokenizer.fit_on_texts([rr_text])\n",
        "len(tokenizer.word_index)"
      ],
      "metadata": {
        "colab": {
          "base_uri": "https://localhost:8080/"
        },
        "id": "Xf-_w4H1HYiu",
        "outputId": "a4a85f0f-4735-430b-d1bc-b3b340a56e8c"
      },
      "execution_count": 6,
      "outputs": [
        {
          "output_type": "execute_result",
          "data": {
            "text/plain": [
              "326"
            ]
          },
          "metadata": {},
          "execution_count": 6
        }
      ]
    },
    {
      "cell_type": "code",
      "source": [],
      "metadata": {
        "id": "mzRE9EL5HilR"
      },
      "execution_count": null,
      "outputs": []
    },
    {
      "cell_type": "code",
      "source": [
        "input_sentences = []\n",
        "for sentence in rr_text.split(\"\\n\"):\n",
        "  tokenized_sentence = tokenizer.texts_to_sequences([sentence])[0]\n",
        "  # print(tokenized_sentence)\n",
        "\n",
        "  for i in range(1,len(tokenized_sentence)):\n",
        "    input_sentences.append(tokenized_sentence[:i+1])\n",
        "\n",
        "len(input_sentences)"
      ],
      "metadata": {
        "colab": {
          "base_uri": "https://localhost:8080/"
        },
        "id": "mR2mztssH90v",
        "outputId": "b4f51fd2-347a-4c31-a70e-54d098b864f7"
      },
      "execution_count": 12,
      "outputs": [
        {
          "output_type": "execute_result",
          "data": {
            "text/plain": [
              "633"
            ]
          },
          "metadata": {},
          "execution_count": 12
        }
      ]
    },
    {
      "cell_type": "code",
      "source": [
        "max_len = max([len(x) for x in input_sentences])\n",
        "max_len"
      ],
      "metadata": {
        "id": "GxOwZg_BIcls",
        "colab": {
          "base_uri": "https://localhost:8080/"
        },
        "outputId": "04797c13-ed52-4cdf-e112-5617c1b6aef7"
      },
      "execution_count": 13,
      "outputs": [
        {
          "output_type": "execute_result",
          "data": {
            "text/plain": [
              "85"
            ]
          },
          "metadata": {},
          "execution_count": 13
        }
      ]
    },
    {
      "cell_type": "code",
      "source": [
        "from tensorflow.keras.preprocessing.sequence import pad_sequences\n",
        "padded_input_sequences = pad_sequences(input_sentences, maxlen = max_len, padding='pre')"
      ],
      "metadata": {
        "id": "hEGfFRkKIjUk"
      },
      "execution_count": 14,
      "outputs": []
    },
    {
      "cell_type": "code",
      "source": [
        "padded_input_sequences"
      ],
      "metadata": {
        "colab": {
          "base_uri": "https://localhost:8080/"
        },
        "id": "jrTPMo47N6CS",
        "outputId": "031a1472-9a12-47a2-f8fa-51043e66a3c1"
      },
      "execution_count": 15,
      "outputs": [
        {
          "output_type": "execute_result",
          "data": {
            "text/plain": [
              "array([[  0,   0,   0, ...,   0,   9,   7],\n",
              "       [  0,   0,   0, ...,   9,   7,  39],\n",
              "       [  0,   0,   0, ...,   7,  39,  80],\n",
              "       ...,\n",
              "       [  0,   0,   0, ...,   5,   1, 326],\n",
              "       [  0,   0,   0, ...,   1, 326,   2],\n",
              "       [  0,   0,   0, ..., 326,   2,  10]], dtype=int32)"
            ]
          },
          "metadata": {},
          "execution_count": 15
        }
      ]
    },
    {
      "cell_type": "code",
      "source": [
        "X = padded_input_sequences[:,:-1]\n",
        "X.shape"
      ],
      "metadata": {
        "id": "1yQ_tYMJOP05",
        "colab": {
          "base_uri": "https://localhost:8080/"
        },
        "outputId": "b9d20514-60ff-4855-821b-0f09ccd5afef"
      },
      "execution_count": 18,
      "outputs": [
        {
          "output_type": "execute_result",
          "data": {
            "text/plain": [
              "(633, 84)"
            ]
          },
          "metadata": {},
          "execution_count": 18
        }
      ]
    },
    {
      "cell_type": "code",
      "source": [
        "Y = padded_input_sequences[:,-1]\n",
        "Y.shape"
      ],
      "metadata": {
        "colab": {
          "base_uri": "https://localhost:8080/"
        },
        "id": "cYQSNdetGDlq",
        "outputId": "890265d3-412d-405c-f2ac-1f95a1967fde"
      },
      "execution_count": 20,
      "outputs": [
        {
          "output_type": "execute_result",
          "data": {
            "text/plain": [
              "(633,)"
            ]
          },
          "metadata": {},
          "execution_count": 20
        }
      ]
    },
    {
      "cell_type": "code",
      "source": [
        "from tensorflow.keras.utils import to_categorical\n",
        "y = to_categorical(Y,num_classes=327)"
      ],
      "metadata": {
        "id": "9acBEgp8G4QB"
      },
      "execution_count": 22,
      "outputs": []
    },
    {
      "cell_type": "code",
      "source": [
        "y.shape"
      ],
      "metadata": {
        "colab": {
          "base_uri": "https://localhost:8080/"
        },
        "id": "IzcHHkE5HZZH",
        "outputId": "f333d792-19b2-470b-8c4d-cb20c23eb8bd"
      },
      "execution_count": 23,
      "outputs": [
        {
          "output_type": "execute_result",
          "data": {
            "text/plain": [
              "(633, 327)"
            ]
          },
          "metadata": {},
          "execution_count": 23
        }
      ]
    },
    {
      "cell_type": "code",
      "source": [
        "from tensorflow.keras.models import Sequential\n",
        "from tensorflow.keras.layers import Embedding, LSTM, Dense"
      ],
      "metadata": {
        "id": "Ad7SZc9OHi13"
      },
      "execution_count": 24,
      "outputs": []
    },
    {
      "cell_type": "code",
      "source": [
        "model = Sequential()\n",
        "model.add(Embedding(327, 100, input_length=84))\n",
        "model.add(LSTM(150))\n",
        "model.add(Dense(327, activation='softmax'))"
      ],
      "metadata": {
        "id": "WkpYGsSdHmbs"
      },
      "execution_count": 34,
      "outputs": []
    },
    {
      "cell_type": "code",
      "source": [
        "model.compile(loss='categorical_crossentropy', optimizer='adam',metrics=['accuracy'])"
      ],
      "metadata": {
        "id": "fwLLg41XKDSi"
      },
      "execution_count": 35,
      "outputs": []
    },
    {
      "cell_type": "code",
      "source": [
        "model.summary()"
      ],
      "metadata": {
        "colab": {
          "base_uri": "https://localhost:8080/"
        },
        "id": "1ViQmXwzKLab",
        "outputId": "282fc0e9-7403-45cd-d795-159102a2d645"
      },
      "execution_count": 36,
      "outputs": [
        {
          "output_type": "stream",
          "name": "stdout",
          "text": [
            "Model: \"sequential_3\"\n",
            "_________________________________________________________________\n",
            " Layer (type)                Output Shape              Param #   \n",
            "=================================================================\n",
            " embedding_3 (Embedding)     (None, 84, 100)           32700     \n",
            "                                                                 \n",
            " lstm_4 (LSTM)               (None, 150)               150600    \n",
            "                                                                 \n",
            " dense_2 (Dense)             (None, 327)               49377     \n",
            "                                                                 \n",
            "=================================================================\n",
            "Total params: 232677 (908.89 KB)\n",
            "Trainable params: 232677 (908.89 KB)\n",
            "Non-trainable params: 0 (0.00 Byte)\n",
            "_________________________________________________________________\n"
          ]
        }
      ]
    },
    {
      "cell_type": "code",
      "source": [
        "model.fit(X,y,epochs=100)"
      ],
      "metadata": {
        "colab": {
          "base_uri": "https://localhost:8080/"
        },
        "id": "DBgFZQNyKNp1",
        "outputId": "04686f29-f022-4820-f52c-c9418e4607da"
      },
      "execution_count": 37,
      "outputs": [
        {
          "output_type": "stream",
          "name": "stdout",
          "text": [
            "Epoch 1/100\n",
            "20/20 [==============================] - 5s 133ms/step - loss: 5.6665 - accuracy: 0.0695\n",
            "Epoch 2/100\n",
            "20/20 [==============================] - 4s 198ms/step - loss: 5.3048 - accuracy: 0.0932\n",
            "Epoch 3/100\n",
            "20/20 [==============================] - 3s 128ms/step - loss: 5.2017 - accuracy: 0.0932\n",
            "Epoch 4/100\n",
            "20/20 [==============================] - 3s 127ms/step - loss: 5.1709 - accuracy: 0.0932\n",
            "Epoch 5/100\n",
            "20/20 [==============================] - 3s 127ms/step - loss: 5.1490 - accuracy: 0.0932\n",
            "Epoch 6/100\n",
            "20/20 [==============================] - 3s 176ms/step - loss: 5.1346 - accuracy: 0.0932\n",
            "Epoch 7/100\n",
            "20/20 [==============================] - 3s 161ms/step - loss: 5.0949 - accuracy: 0.0932\n",
            "Epoch 8/100\n",
            "20/20 [==============================] - 3s 126ms/step - loss: 5.0437 - accuracy: 0.0932\n",
            "Epoch 9/100\n",
            "20/20 [==============================] - 3s 129ms/step - loss: 4.9802 - accuracy: 0.0932\n",
            "Epoch 10/100\n",
            "20/20 [==============================] - 3s 127ms/step - loss: 4.8741 - accuracy: 0.1090\n",
            "Epoch 11/100\n",
            "20/20 [==============================] - 4s 217ms/step - loss: 4.7445 - accuracy: 0.1438\n",
            "Epoch 12/100\n",
            "20/20 [==============================] - 3s 128ms/step - loss: 4.5916 - accuracy: 0.1564\n",
            "Epoch 13/100\n",
            "20/20 [==============================] - 3s 130ms/step - loss: 4.4179 - accuracy: 0.1769\n",
            "Epoch 14/100\n",
            "20/20 [==============================] - 3s 129ms/step - loss: 4.2190 - accuracy: 0.1912\n",
            "Epoch 15/100\n",
            "20/20 [==============================] - 3s 153ms/step - loss: 4.0209 - accuracy: 0.2022\n",
            "Epoch 16/100\n",
            "20/20 [==============================] - 4s 183ms/step - loss: 3.8101 - accuracy: 0.2275\n",
            "Epoch 17/100\n",
            "20/20 [==============================] - 3s 127ms/step - loss: 3.6011 - accuracy: 0.2480\n",
            "Epoch 18/100\n",
            "20/20 [==============================] - 3s 129ms/step - loss: 3.3914 - accuracy: 0.2686\n",
            "Epoch 19/100\n",
            "20/20 [==============================] - 3s 129ms/step - loss: 3.1880 - accuracy: 0.2875\n",
            "Epoch 20/100\n",
            "20/20 [==============================] - 4s 193ms/step - loss: 2.9863 - accuracy: 0.3333\n",
            "Epoch 21/100\n",
            "20/20 [==============================] - 3s 135ms/step - loss: 2.7752 - accuracy: 0.3633\n",
            "Epoch 22/100\n",
            "20/20 [==============================] - 3s 128ms/step - loss: 2.5793 - accuracy: 0.4013\n",
            "Epoch 23/100\n",
            "20/20 [==============================] - 3s 135ms/step - loss: 2.3979 - accuracy: 0.4708\n",
            "Epoch 24/100\n",
            "20/20 [==============================] - 3s 130ms/step - loss: 2.2194 - accuracy: 0.5039\n",
            "Epoch 25/100\n",
            "20/20 [==============================] - 4s 207ms/step - loss: 2.0422 - accuracy: 0.5766\n",
            "Epoch 26/100\n",
            "20/20 [==============================] - 3s 129ms/step - loss: 1.8861 - accuracy: 0.6351\n",
            "Epoch 27/100\n",
            "20/20 [==============================] - 3s 130ms/step - loss: 1.7404 - accuracy: 0.6904\n",
            "Epoch 28/100\n",
            "20/20 [==============================] - 3s 127ms/step - loss: 1.5970 - accuracy: 0.7536\n",
            "Epoch 29/100\n",
            "20/20 [==============================] - 3s 175ms/step - loss: 1.4737 - accuracy: 0.7994\n",
            "Epoch 30/100\n",
            "20/20 [==============================] - 3s 165ms/step - loss: 1.3582 - accuracy: 0.8436\n",
            "Epoch 31/100\n",
            "20/20 [==============================] - 2s 125ms/step - loss: 1.2498 - accuracy: 0.8768\n",
            "Epoch 32/100\n",
            "20/20 [==============================] - 3s 128ms/step - loss: 1.1440 - accuracy: 0.8973\n",
            "Epoch 33/100\n",
            "20/20 [==============================] - 3s 126ms/step - loss: 1.0600 - accuracy: 0.9179\n",
            "Epoch 34/100\n",
            "20/20 [==============================] - 4s 216ms/step - loss: 0.9718 - accuracy: 0.9273\n",
            "Epoch 35/100\n",
            "20/20 [==============================] - 3s 133ms/step - loss: 0.8897 - accuracy: 0.9526\n",
            "Epoch 36/100\n",
            "20/20 [==============================] - 3s 129ms/step - loss: 0.8207 - accuracy: 0.9542\n",
            "Epoch 37/100\n",
            "20/20 [==============================] - 3s 129ms/step - loss: 0.7595 - accuracy: 0.9605\n",
            "Epoch 38/100\n",
            "20/20 [==============================] - 3s 157ms/step - loss: 0.7005 - accuracy: 0.9779\n",
            "Epoch 39/100\n",
            "20/20 [==============================] - 4s 187ms/step - loss: 0.6504 - accuracy: 0.9747\n",
            "Epoch 40/100\n",
            "20/20 [==============================] - 3s 132ms/step - loss: 0.6034 - accuracy: 0.9795\n",
            "Epoch 41/100\n",
            "20/20 [==============================] - 3s 128ms/step - loss: 0.5580 - accuracy: 0.9842\n",
            "Epoch 42/100\n",
            "20/20 [==============================] - 3s 129ms/step - loss: 0.5179 - accuracy: 0.9795\n",
            "Epoch 43/100\n",
            "20/20 [==============================] - 4s 207ms/step - loss: 0.4830 - accuracy: 0.9842\n",
            "Epoch 44/100\n",
            "20/20 [==============================] - 3s 133ms/step - loss: 0.4523 - accuracy: 0.9842\n",
            "Epoch 45/100\n",
            "20/20 [==============================] - 3s 127ms/step - loss: 0.4192 - accuracy: 0.9842\n",
            "Epoch 46/100\n",
            "20/20 [==============================] - 3s 131ms/step - loss: 0.3939 - accuracy: 0.9874\n",
            "Epoch 47/100\n",
            "20/20 [==============================] - 3s 142ms/step - loss: 0.3704 - accuracy: 0.9905\n",
            "Epoch 48/100\n",
            "20/20 [==============================] - 4s 197ms/step - loss: 0.3454 - accuracy: 0.9889\n",
            "Epoch 49/100\n",
            "20/20 [==============================] - 3s 133ms/step - loss: 0.3256 - accuracy: 0.9905\n",
            "Epoch 50/100\n",
            "20/20 [==============================] - 3s 128ms/step - loss: 0.3065 - accuracy: 0.9889\n",
            "Epoch 51/100\n",
            "20/20 [==============================] - 3s 130ms/step - loss: 0.2890 - accuracy: 0.9889\n",
            "Epoch 52/100\n",
            "20/20 [==============================] - 4s 201ms/step - loss: 0.2728 - accuracy: 0.9905\n",
            "Epoch 53/100\n",
            "20/20 [==============================] - 3s 132ms/step - loss: 0.2597 - accuracy: 0.9858\n",
            "Epoch 54/100\n",
            "20/20 [==============================] - 3s 125ms/step - loss: 0.2453 - accuracy: 0.9905\n",
            "Epoch 55/100\n",
            "20/20 [==============================] - 3s 128ms/step - loss: 0.2327 - accuracy: 0.9905\n",
            "Epoch 56/100\n",
            "20/20 [==============================] - 3s 155ms/step - loss: 0.2216 - accuracy: 0.9874\n",
            "Epoch 57/100\n",
            "20/20 [==============================] - 5s 269ms/step - loss: 0.2092 - accuracy: 0.9921\n",
            "Epoch 58/100\n",
            "20/20 [==============================] - 3s 127ms/step - loss: 0.2003 - accuracy: 0.9858\n",
            "Epoch 59/100\n",
            "20/20 [==============================] - 3s 126ms/step - loss: 0.1901 - accuracy: 0.9889\n",
            "Epoch 60/100\n",
            "20/20 [==============================] - 3s 129ms/step - loss: 0.1815 - accuracy: 0.9905\n",
            "Epoch 61/100\n",
            "20/20 [==============================] - 3s 138ms/step - loss: 0.1735 - accuracy: 0.9921\n",
            "Epoch 62/100\n",
            "20/20 [==============================] - 4s 197ms/step - loss: 0.1668 - accuracy: 0.9889\n",
            "Epoch 63/100\n",
            "20/20 [==============================] - 3s 126ms/step - loss: 0.1592 - accuracy: 0.9921\n",
            "Epoch 64/100\n",
            "20/20 [==============================] - 3s 127ms/step - loss: 0.1540 - accuracy: 0.9874\n",
            "Epoch 65/100\n",
            "20/20 [==============================] - 3s 128ms/step - loss: 0.1474 - accuracy: 0.9889\n",
            "Epoch 66/100\n",
            "20/20 [==============================] - 4s 178ms/step - loss: 0.1426 - accuracy: 0.9921\n",
            "Epoch 67/100\n",
            "20/20 [==============================] - 3s 156ms/step - loss: 0.1365 - accuracy: 0.9905\n",
            "Epoch 68/100\n",
            "20/20 [==============================] - 3s 130ms/step - loss: 0.1314 - accuracy: 0.9889\n",
            "Epoch 69/100\n",
            "20/20 [==============================] - 3s 128ms/step - loss: 0.1265 - accuracy: 0.9921\n",
            "Epoch 70/100\n",
            "20/20 [==============================] - 3s 129ms/step - loss: 0.1220 - accuracy: 0.9921\n",
            "Epoch 71/100\n",
            "20/20 [==============================] - 4s 215ms/step - loss: 0.1178 - accuracy: 0.9921\n",
            "Epoch 72/100\n",
            "20/20 [==============================] - 3s 128ms/step - loss: 0.1142 - accuracy: 0.9905\n",
            "Epoch 73/100\n",
            "20/20 [==============================] - 3s 126ms/step - loss: 0.1097 - accuracy: 0.9889\n",
            "Epoch 74/100\n",
            "20/20 [==============================] - 3s 127ms/step - loss: 0.1065 - accuracy: 0.9921\n",
            "Epoch 75/100\n",
            "20/20 [==============================] - 3s 151ms/step - loss: 0.1024 - accuracy: 0.9905\n",
            "Epoch 76/100\n",
            "20/20 [==============================] - 4s 184ms/step - loss: 0.0995 - accuracy: 0.9889\n",
            "Epoch 77/100\n",
            "20/20 [==============================] - 3s 128ms/step - loss: 0.0963 - accuracy: 0.9905\n",
            "Epoch 78/100\n",
            "20/20 [==============================] - 3s 127ms/step - loss: 0.0939 - accuracy: 0.9889\n",
            "Epoch 79/100\n",
            "20/20 [==============================] - 3s 127ms/step - loss: 0.0923 - accuracy: 0.9905\n",
            "Epoch 80/100\n",
            "20/20 [==============================] - 4s 204ms/step - loss: 0.0896 - accuracy: 0.9905\n",
            "Epoch 81/100\n",
            "20/20 [==============================] - 3s 137ms/step - loss: 0.0868 - accuracy: 0.9905\n",
            "Epoch 82/100\n",
            "20/20 [==============================] - 3s 127ms/step - loss: 0.0841 - accuracy: 0.9889\n",
            "Epoch 83/100\n",
            "20/20 [==============================] - 2s 125ms/step - loss: 0.0826 - accuracy: 0.9874\n",
            "Epoch 84/100\n",
            "20/20 [==============================] - 3s 134ms/step - loss: 0.0792 - accuracy: 0.9889\n",
            "Epoch 85/100\n",
            "20/20 [==============================] - 4s 208ms/step - loss: 0.0779 - accuracy: 0.9921\n",
            "Epoch 86/100\n",
            "20/20 [==============================] - 3s 128ms/step - loss: 0.0756 - accuracy: 0.9889\n",
            "Epoch 87/100\n",
            "20/20 [==============================] - 3s 129ms/step - loss: 0.0737 - accuracy: 0.9905\n",
            "Epoch 88/100\n",
            "20/20 [==============================] - 3s 126ms/step - loss: 0.0719 - accuracy: 0.9889\n",
            "Epoch 89/100\n",
            "20/20 [==============================] - 4s 179ms/step - loss: 0.0702 - accuracy: 0.9874\n",
            "Epoch 90/100\n",
            "20/20 [==============================] - 3s 158ms/step - loss: 0.0688 - accuracy: 0.9874\n",
            "Epoch 91/100\n",
            "20/20 [==============================] - 3s 129ms/step - loss: 0.0669 - accuracy: 0.9905\n",
            "Epoch 92/100\n",
            "20/20 [==============================] - 3s 128ms/step - loss: 0.0663 - accuracy: 0.9874\n",
            "Epoch 93/100\n",
            "20/20 [==============================] - 3s 131ms/step - loss: 0.0644 - accuracy: 0.9874\n",
            "Epoch 94/100\n",
            "20/20 [==============================] - 4s 214ms/step - loss: 0.0625 - accuracy: 0.9921\n",
            "Epoch 95/100\n",
            "20/20 [==============================] - 3s 127ms/step - loss: 0.0617 - accuracy: 0.9889\n",
            "Epoch 96/100\n",
            "20/20 [==============================] - 3s 131ms/step - loss: 0.0601 - accuracy: 0.9921\n",
            "Epoch 97/100\n",
            "20/20 [==============================] - 3s 128ms/step - loss: 0.0590 - accuracy: 0.9921\n",
            "Epoch 98/100\n",
            "20/20 [==============================] - 3s 158ms/step - loss: 0.0587 - accuracy: 0.9889\n",
            "Epoch 99/100\n",
            "20/20 [==============================] - 4s 178ms/step - loss: 0.0586 - accuracy: 0.9874\n",
            "Epoch 100/100\n",
            "20/20 [==============================] - 3s 129ms/step - loss: 0.0570 - accuracy: 0.9889\n"
          ]
        },
        {
          "output_type": "execute_result",
          "data": {
            "text/plain": [
              "<keras.src.callbacks.History at 0x7f3dd8272dd0>"
            ]
          },
          "metadata": {},
          "execution_count": 37
        }
      ]
    },
    {
      "cell_type": "code",
      "source": [
        "import time\n",
        "import numpy as np\n",
        "text = \"standout traits of the Royals\"\n",
        "\n",
        "for i in range(10):\n",
        "  # tokenize\n",
        "  token_text = tokenizer.texts_to_sequences([text])[0]\n",
        "  # padding\n",
        "  padded_token_text = pad_sequences([token_text], maxlen=84, padding='pre')\n",
        "  # predict\n",
        "  pos = np.argmax(model.predict(padded_token_text))\n",
        "\n",
        "  for word,index in tokenizer.word_index.items():\n",
        "    if index == pos:\n",
        "      text = text + \" \" + word\n",
        "      print(text)\n",
        "      time.sleep(2)"
      ],
      "metadata": {
        "colab": {
          "base_uri": "https://localhost:8080/"
        },
        "id": "E_1GjRNpKYFb",
        "outputId": "95e5abb1-19a5-41e6-f14d-ce3182b2b407"
      },
      "execution_count": 39,
      "outputs": [
        {
          "output_type": "stream",
          "name": "stdout",
          "text": [
            "1/1 [==============================] - 1s 543ms/step\n",
            "standout traits of the Royals is\n",
            "1/1 [==============================] - 0s 38ms/step\n",
            "standout traits of the Royals is their\n",
            "1/1 [==============================] - 0s 31ms/step\n",
            "standout traits of the Royals is their commitment\n",
            "1/1 [==============================] - 0s 47ms/step\n",
            "standout traits of the Royals is their commitment to\n",
            "1/1 [==============================] - 0s 32ms/step\n",
            "standout traits of the Royals is their commitment to nurturing\n",
            "1/1 [==============================] - 0s 31ms/step\n",
            "standout traits of the Royals is their commitment to nurturing young\n",
            "1/1 [==============================] - 0s 32ms/step\n",
            "standout traits of the Royals is their commitment to nurturing young talent\n",
            "1/1 [==============================] - 0s 33ms/step\n",
            "standout traits of the Royals is their commitment to nurturing young talent evident\n",
            "1/1 [==============================] - 0s 44ms/step\n",
            "standout traits of the Royals is their commitment to nurturing young talent evident in\n",
            "1/1 [==============================] - 0s 34ms/step\n",
            "standout traits of the Royals is their commitment to nurturing young talent evident in their\n"
          ]
        }
      ]
    },
    {
      "cell_type": "code",
      "source": [],
      "metadata": {
        "id": "Enb6c6miNRpP"
      },
      "execution_count": null,
      "outputs": []
    }
  ]
}